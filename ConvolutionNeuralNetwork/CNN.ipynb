{
 "cells": [
  {
   "cell_type": "markdown",
   "metadata": {
    "id": "3DR-eO17geWu"
   },
   "source": [
    "# Convolutional Neural Network"
   ]
  },
  {
   "cell_type": "markdown",
   "metadata": {
    "id": "EMefrVPCg-60"
   },
   "source": [
    "### Importing the libraries"
   ]
  },
  {
   "cell_type": "code",
   "execution_count": 8,
   "metadata": {
    "id": "sCV30xyVhFbE"
   },
   "outputs": [],
   "source": [
    "import tensorflow as tf\n",
    "from keras.preprocessing.image import ImageDataGenerator"
   ]
  },
  {
   "cell_type": "code",
   "execution_count": 9,
   "metadata": {
    "id": "FIleuCAjoFD8"
   },
   "outputs": [
    {
     "data": {
      "text/plain": [
       "'2.8.0'"
      ]
     },
     "execution_count": 9,
     "metadata": {},
     "output_type": "execute_result"
    }
   ],
   "source": [
    "tf.__version__"
   ]
  },
  {
   "cell_type": "markdown",
   "metadata": {
    "id": "oxQxCBWyoGPE"
   },
   "source": [
    "## Data Preprocessing"
   ]
  },
  {
   "cell_type": "markdown",
   "metadata": {
    "id": "MvE-heJNo3GG"
   },
   "source": [
    "### Preprocessing the Training set"
   ]
  },
  {
   "cell_type": "code",
   "execution_count": 10,
   "metadata": {
    "id": "0koUcJMJpEBD"
   },
   "outputs": [
    {
     "name": "stdout",
     "output_type": "stream",
     "text": [
      "Found 8000 images belonging to 2 classes.\n"
     ]
    }
   ],
   "source": [
    "train_datagen = ImageDataGenerator(rescale = 1./255,\n",
    "                                   shear_range = 0.2,\n",
    "                                   zoom_range = 0.2,\n",
    "                                   horizontal_flip = True)\n",
    "training_set = train_datagen.flow_from_directory('dataset/training_set',\n",
    "                                                 target_size = (64, 64),\n",
    "                                                 batch_size = 32,\n",
    "                                                 class_mode = 'binary')"
   ]
  },
  {
   "cell_type": "markdown",
   "metadata": {
    "id": "mrCMmGw9pHys"
   },
   "source": [
    "### Preprocessing the Test set"
   ]
  },
  {
   "cell_type": "code",
   "execution_count": 11,
   "metadata": {
    "id": "SH4WzfOhpKc3"
   },
   "outputs": [
    {
     "name": "stdout",
     "output_type": "stream",
     "text": [
      "Found 2000 images belonging to 2 classes.\n"
     ]
    }
   ],
   "source": [
    "test_datagen = ImageDataGenerator(rescale = 1./255)\n",
    "test_set = test_datagen.flow_from_directory('dataset/test_set',\n",
    "                                            target_size = (64, 64),\n",
    "                                            batch_size = 32,\n",
    "                                            class_mode = 'binary')"
   ]
  },
  {
   "cell_type": "markdown",
   "metadata": {
    "id": "af8O4l90gk7B"
   },
   "source": [
    "## Building the CNN"
   ]
  },
  {
   "cell_type": "markdown",
   "metadata": {
    "id": "ces1gXY2lmoX"
   },
   "source": [
    "### Initialising the CNN"
   ]
  },
  {
   "cell_type": "code",
   "execution_count": 14,
   "metadata": {
    "id": "SAUt4UMPlhLS"
   },
   "outputs": [],
   "source": [
    "cnn = tf.keras.models.Sequential()"
   ]
  },
  {
   "cell_type": "markdown",
   "metadata": {
    "id": "u5YJj_XMl5LF"
   },
   "source": [
    "###  Convolution"
   ]
  },
  {
   "cell_type": "code",
   "execution_count": 15,
   "metadata": {
    "id": "XPzPrMckl-hV"
   },
   "outputs": [],
   "source": [
    "cnn.add(tf.keras.layers.Conv2D(filters=32, kernel_size=3, activation='relu', input_shape=[64, 64, 3]))"
   ]
  },
  {
   "cell_type": "markdown",
   "metadata": {
    "id": "tf87FpvxmNOJ"
   },
   "source": [
    "### Pooling"
   ]
  },
  {
   "cell_type": "code",
   "execution_count": 16,
   "metadata": {
    "id": "ncpqPl69mOac"
   },
   "outputs": [],
   "source": [
    "cnn.add(tf.keras.layers.MaxPool2D(pool_size=2, strides=2))"
   ]
  },
  {
   "cell_type": "markdown",
   "metadata": {
    "id": "xaTOgD8rm4mU"
   },
   "source": [
    "### Adding a second convolutional layer"
   ]
  },
  {
   "cell_type": "code",
   "execution_count": 17,
   "metadata": {
    "id": "i_-FZjn_m8gk"
   },
   "outputs": [],
   "source": [
    "cnn.add(tf.keras.layers.Conv2D(filters=32, kernel_size=3, activation='relu'))\n",
    "cnn.add(tf.keras.layers.MaxPool2D(pool_size=2, strides=2))"
   ]
  },
  {
   "cell_type": "markdown",
   "metadata": {
    "id": "tmiEuvTunKfk"
   },
   "source": [
    "###  Flattening"
   ]
  },
  {
   "cell_type": "code",
   "execution_count": 18,
   "metadata": {
    "id": "6AZeOGCvnNZn"
   },
   "outputs": [],
   "source": [
    "cnn.add(tf.keras.layers.Flatten())"
   ]
  },
  {
   "cell_type": "markdown",
   "metadata": {
    "id": "dAoSECOm203v"
   },
   "source": [
    "###  Full Connection"
   ]
  },
  {
   "cell_type": "code",
   "execution_count": 19,
   "metadata": {
    "id": "8GtmUlLd26Nq"
   },
   "outputs": [],
   "source": [
    "cnn.add(tf.keras.layers.Dense(units=128, activation='relu'))"
   ]
  },
  {
   "cell_type": "markdown",
   "metadata": {
    "id": "yTldFvbX28Na"
   },
   "source": [
    "###  Output Layer"
   ]
  },
  {
   "cell_type": "code",
   "execution_count": 20,
   "metadata": {
    "id": "1p_Zj1Mc3Ko_"
   },
   "outputs": [],
   "source": [
    "cnn.add(tf.keras.layers.Dense(units=1, activation='sigmoid'))"
   ]
  },
  {
   "cell_type": "markdown",
   "metadata": {
    "id": "D6XkI90snSDl"
   },
   "source": [
    "##  Training the CNN"
   ]
  },
  {
   "cell_type": "markdown",
   "metadata": {
    "id": "vfrFQACEnc6i"
   },
   "source": [
    "### Compiling the CNN"
   ]
  },
  {
   "cell_type": "code",
   "execution_count": 21,
   "metadata": {
    "id": "NALksrNQpUlJ"
   },
   "outputs": [],
   "source": [
    "cnn.compile(optimizer = 'adam', loss = 'binary_crossentropy', metrics = ['accuracy'])"
   ]
  },
  {
   "cell_type": "markdown",
   "metadata": {
    "id": "ehS-v3MIpX2h"
   },
   "source": [
    "### Training the CNN on the Training set and evaluating it on the Test set"
   ]
  },
  {
   "cell_type": "code",
   "execution_count": 22,
   "metadata": {
    "id": "XUj1W4PJptta"
   },
   "outputs": [
    {
     "name": "stdout",
     "output_type": "stream",
     "text": [
      "Epoch 1/25\n",
      "250/250 [==============================] - 56s 222ms/step - loss: 0.6621 - accuracy: 0.5911 - val_loss: 0.6224 - val_accuracy: 0.6405\n",
      "Epoch 2/25\n",
      "250/250 [==============================] - 47s 188ms/step - loss: 0.5948 - accuracy: 0.6786 - val_loss: 0.5714 - val_accuracy: 0.7055\n",
      "Epoch 3/25\n",
      "250/250 [==============================] - 60s 241ms/step - loss: 0.5558 - accuracy: 0.7129 - val_loss: 0.5304 - val_accuracy: 0.7425\n",
      "Epoch 4/25\n",
      "250/250 [==============================] - 61s 244ms/step - loss: 0.5287 - accuracy: 0.7308 - val_loss: 0.5039 - val_accuracy: 0.7535\n",
      "Epoch 5/25\n",
      "250/250 [==============================] - 57s 229ms/step - loss: 0.4968 - accuracy: 0.7563 - val_loss: 0.5538 - val_accuracy: 0.7195\n",
      "Epoch 6/25\n",
      "250/250 [==============================] - 53s 210ms/step - loss: 0.4920 - accuracy: 0.7616 - val_loss: 0.5043 - val_accuracy: 0.7650\n",
      "Epoch 7/25\n",
      "250/250 [==============================] - 45s 178ms/step - loss: 0.4659 - accuracy: 0.7805 - val_loss: 0.4735 - val_accuracy: 0.7750\n",
      "Epoch 8/25\n",
      "250/250 [==============================] - 53s 213ms/step - loss: 0.4542 - accuracy: 0.7859 - val_loss: 0.5339 - val_accuracy: 0.7400\n",
      "Epoch 9/25\n",
      "250/250 [==============================] - 61s 242ms/step - loss: 0.4438 - accuracy: 0.7915 - val_loss: 0.4741 - val_accuracy: 0.7860\n",
      "Epoch 10/25\n",
      "250/250 [==============================] - 66s 263ms/step - loss: 0.4162 - accuracy: 0.8024 - val_loss: 0.4580 - val_accuracy: 0.7875\n",
      "Epoch 11/25\n",
      "250/250 [==============================] - 69s 276ms/step - loss: 0.4090 - accuracy: 0.8104 - val_loss: 0.4781 - val_accuracy: 0.7775\n",
      "Epoch 12/25\n",
      "250/250 [==============================] - 67s 266ms/step - loss: 0.4007 - accuracy: 0.8154 - val_loss: 0.4652 - val_accuracy: 0.7835\n",
      "Epoch 13/25\n",
      "250/250 [==============================] - 47s 187ms/step - loss: 0.3842 - accuracy: 0.8223 - val_loss: 0.4662 - val_accuracy: 0.7955\n",
      "Epoch 14/25\n",
      "250/250 [==============================] - 49s 196ms/step - loss: 0.3771 - accuracy: 0.8274 - val_loss: 0.4758 - val_accuracy: 0.7905\n",
      "Epoch 15/25\n",
      "250/250 [==============================] - 51s 202ms/step - loss: 0.3647 - accuracy: 0.8321 - val_loss: 0.5413 - val_accuracy: 0.7645\n",
      "Epoch 16/25\n",
      "250/250 [==============================] - 50s 201ms/step - loss: 0.3533 - accuracy: 0.8397 - val_loss: 0.4629 - val_accuracy: 0.7930\n",
      "Epoch 17/25\n",
      "250/250 [==============================] - 51s 202ms/step - loss: 0.3483 - accuracy: 0.8451 - val_loss: 0.4400 - val_accuracy: 0.8070\n",
      "Epoch 18/25\n",
      "250/250 [==============================] - 51s 202ms/step - loss: 0.3262 - accuracy: 0.8558 - val_loss: 0.4708 - val_accuracy: 0.8000\n",
      "Epoch 19/25\n",
      "250/250 [==============================] - 51s 202ms/step - loss: 0.3213 - accuracy: 0.8594 - val_loss: 0.4601 - val_accuracy: 0.7970\n",
      "Epoch 20/25\n",
      "250/250 [==============================] - 51s 203ms/step - loss: 0.3154 - accuracy: 0.8626 - val_loss: 0.5443 - val_accuracy: 0.7795\n",
      "Epoch 21/25\n",
      "250/250 [==============================] - 50s 202ms/step - loss: 0.3012 - accuracy: 0.8681 - val_loss: 0.5135 - val_accuracy: 0.7900\n",
      "Epoch 22/25\n",
      "250/250 [==============================] - 51s 203ms/step - loss: 0.2841 - accuracy: 0.8774 - val_loss: 0.4815 - val_accuracy: 0.8095\n",
      "Epoch 23/25\n",
      "250/250 [==============================] - 50s 201ms/step - loss: 0.2892 - accuracy: 0.8741 - val_loss: 0.5277 - val_accuracy: 0.7700\n",
      "Epoch 24/25\n",
      "250/250 [==============================] - 52s 206ms/step - loss: 0.2687 - accuracy: 0.8840 - val_loss: 0.5360 - val_accuracy: 0.7945\n",
      "Epoch 25/25\n",
      "250/250 [==============================] - 51s 202ms/step - loss: 0.2586 - accuracy: 0.8884 - val_loss: 0.5391 - val_accuracy: 0.7965\n"
     ]
    },
    {
     "data": {
      "text/plain": [
       "<keras.callbacks.History at 0x7f13ea677790>"
      ]
     },
     "execution_count": 22,
     "metadata": {},
     "output_type": "execute_result"
    }
   ],
   "source": [
    "cnn.fit(x = training_set, validation_data = test_set, epochs = 25)"
   ]
  },
  {
   "cell_type": "markdown",
   "metadata": {
    "id": "U3PZasO0006Z"
   },
   "source": [
    "##  Making a single prediction"
   ]
  },
  {
   "cell_type": "code",
   "execution_count": 27,
   "metadata": {
    "id": "gsSiWEJY1BPB"
   },
   "outputs": [
    {
     "name": "stdout",
     "output_type": "stream",
     "text": [
      "[[[ 54.  58.   7.]\n",
      "  [ 58.  63.   9.]\n",
      "  [ 64.  67.  10.]\n",
      "  ...\n",
      "  [136. 144.  71.]\n",
      "  [140. 150.  77.]\n",
      "  [139. 149.  78.]]\n",
      "\n",
      " [[ 48.  54.   6.]\n",
      "  [ 51.  58.   7.]\n",
      "  [ 58.  63.   9.]\n",
      "  ...\n",
      "  [129. 137.  64.]\n",
      "  [139. 149.  78.]\n",
      "  [141. 151.  80.]]\n",
      "\n",
      " [[ 48.  56.   7.]\n",
      "  [ 48.  56.   7.]\n",
      "  [ 54.  61.  10.]\n",
      "  ...\n",
      "  [123. 130.  63.]\n",
      "  [136. 145.  80.]\n",
      "  [140. 149.  82.]]\n",
      "\n",
      " ...\n",
      "\n",
      " [[ 46.  55.  12.]\n",
      "  [ 42.  50.   9.]\n",
      "  [ 38.  49.   9.]\n",
      "  ...\n",
      "  [239. 205. 170.]\n",
      "  [235. 209. 186.]\n",
      "  [229. 202. 173.]]\n",
      "\n",
      " [[ 50.  57.  15.]\n",
      "  [ 42.  50.   9.]\n",
      "  [ 44.  52.  11.]\n",
      "  ...\n",
      "  [234. 200. 162.]\n",
      "  [236. 206. 178.]\n",
      "  [234. 203. 174.]]\n",
      "\n",
      " [[ 53.  59.  13.]\n",
      "  [ 43.  51.  10.]\n",
      "  [ 49.  56.  12.]\n",
      "  ...\n",
      "  [231. 195. 159.]\n",
      "  [235. 213. 190.]\n",
      "  [233. 206. 179.]]]\n",
      "[[[[ 54.  58.   7.]\n",
      "   [ 58.  63.   9.]\n",
      "   [ 64.  67.  10.]\n",
      "   ...\n",
      "   [136. 144.  71.]\n",
      "   [140. 150.  77.]\n",
      "   [139. 149.  78.]]\n",
      "\n",
      "  [[ 48.  54.   6.]\n",
      "   [ 51.  58.   7.]\n",
      "   [ 58.  63.   9.]\n",
      "   ...\n",
      "   [129. 137.  64.]\n",
      "   [139. 149.  78.]\n",
      "   [141. 151.  80.]]\n",
      "\n",
      "  [[ 48.  56.   7.]\n",
      "   [ 48.  56.   7.]\n",
      "   [ 54.  61.  10.]\n",
      "   ...\n",
      "   [123. 130.  63.]\n",
      "   [136. 145.  80.]\n",
      "   [140. 149.  82.]]\n",
      "\n",
      "  ...\n",
      "\n",
      "  [[ 46.  55.  12.]\n",
      "   [ 42.  50.   9.]\n",
      "   [ 38.  49.   9.]\n",
      "   ...\n",
      "   [239. 205. 170.]\n",
      "   [235. 209. 186.]\n",
      "   [229. 202. 173.]]\n",
      "\n",
      "  [[ 50.  57.  15.]\n",
      "   [ 42.  50.   9.]\n",
      "   [ 44.  52.  11.]\n",
      "   ...\n",
      "   [234. 200. 162.]\n",
      "   [236. 206. 178.]\n",
      "   [234. 203. 174.]]\n",
      "\n",
      "  [[ 53.  59.  13.]\n",
      "   [ 43.  51.  10.]\n",
      "   [ 49.  56.  12.]\n",
      "   ...\n",
      "   [231. 195. 159.]\n",
      "   [235. 213. 190.]\n",
      "   [233. 206. 179.]]]]\n",
      "{'cats': 0, 'dogs': 1}\n"
     ]
    }
   ],
   "source": [
    "import numpy as np\n",
    "from keras.preprocessing import image\n",
    "test_image = image.load_img('dataset/single_prediction/cat_or_dog_1.jpg', target_size = (64, 64))\n",
    "#target_size set the image to the size of 64,64\n",
    "\n",
    "test_image = image.img_to_array(test_image) \n",
    "print(test_image)\n",
    "test_image = np.expand_dims(test_image, axis = 0)\n",
    "print(test_image)\n",
    "result = cnn.predict(test_image)\n",
    "print(training_set.class_indices) #class_indices will give the class name and their respective encoding label.\n",
    "if result[0][0] == 1:\n",
    "  prediction = 'dog'\n",
    "else:\n",
    "  prediction = 'cat'"
   ]
  },
  {
   "cell_type": "code",
   "execution_count": 26,
   "metadata": {
    "id": "ED9KB3I54c1i"
   },
   "outputs": [
    {
     "name": "stdout",
     "output_type": "stream",
     "text": [
      "dog\n"
     ]
    }
   ],
   "source": [
    "print(prediction)"
   ]
  },
  {
   "cell_type": "code",
   "execution_count": null,
   "metadata": {},
   "outputs": [],
   "source": []
  }
 ],
 "metadata": {
  "colab": {
   "collapsed_sections": [],
   "name": "Copy of convolutional_neural_network.ipynb",
   "provenance": [],
   "toc_visible": true
  },
  "kernelspec": {
   "display_name": "Python 3 (ipykernel)",
   "language": "python",
   "name": "python3"
  },
  "language_info": {
   "codemirror_mode": {
    "name": "ipython",
    "version": 3
   },
   "file_extension": ".py",
   "mimetype": "text/x-python",
   "name": "python",
   "nbconvert_exporter": "python",
   "pygments_lexer": "ipython3",
   "version": "3.8.5"
  }
 },
 "nbformat": 4,
 "nbformat_minor": 1
}
